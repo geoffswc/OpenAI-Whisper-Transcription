{
 "cells": [
  {
   "cell_type": "code",
   "execution_count": 1,
   "id": "75903a90",
   "metadata": {},
   "outputs": [],
   "source": [
    "import whisper"
   ]
  },
  {
   "cell_type": "code",
   "execution_count": 2,
   "id": "9c9a0eca",
   "metadata": {},
   "outputs": [],
   "source": [
    "source_file = 'tobacco_wbr62a00.mp4'"
   ]
  },
  {
   "cell_type": "code",
   "execution_count": 3,
   "id": "706926f2",
   "metadata": {},
   "outputs": [],
   "source": [
    "tiny_model = whisper.load_model(\"tiny\")\n",
    "base_model = whisper.load_model(\"base\")\n",
    "small_model = whisper.load_model(\"small\")\n",
    "medium_model = whisper.load_model(\"medium\")\n",
    "large_model = whisper.load_model(\"large\")"
   ]
  },
  {
   "cell_type": "code",
   "execution_count": 4,
   "id": "7a3bcf45",
   "metadata": {},
   "outputs": [
    {
     "name": "stderr",
     "output_type": "stream",
     "text": [
      "/Users/nms-workshop/anaconda3/lib/python3.10/site-packages/whisper/transcribe.py:126: UserWarning: FP16 is not supported on CPU; using FP32 instead\n",
      "  warnings.warn(\"FP16 is not supported on CPU; using FP32 instead\")\n",
      "[W NNPACK.cpp:51] Could not initialize NNPACK! Reason: Unsupported hardware.\n"
     ]
    },
    {
     "name": "stdout",
     "output_type": "stream",
     "text": [
      " Think smoking makes you look cool. No way. What are you looking at? Hey, Krissie! What? Think smoking makes you look cool. No way. What? Keep on my things, I can't know. I'm jumping now. Always telling us what to do. Or not to do. But we know what's going on. We listen. Like smoking. We don't know the reason it's not to. But out here comes up. That's when we meet the real decision. That's for us. It's not for the smoke. And that's not even the hardest decision out there, my baby. I mean, you know. So how about a little kind of purchase? My parents. They always think I'm not listening. I hear them. Wait a minute. You know, every day you have to do something. You have to deal with stuff on your own. So you want to know why I decided not to smoke. Which reason would you like? I don't need to smoke to prove myself. My coolness is not on trial here. I don't smoke because sometimes it's what you don't do. That makes you who you are. These are the kids that I've seen. They're all cool in different ways. Or a lot of like too. Because you know, we all deal with the same stuff. Same decisions. Like smoking. Forget it. We all came up with the same answer. Not for us. We don't have to smoke to be different. Being ourselves is enough. Hey guys. Now you ask you a couple questions? I've never tried cigarettes. So what? I don't know. I just never wanted to know. Really? Yeah. Someone fresh harder to whatever somebody have a pack at the school. You know, they smoke you know what I mean. And do you think they try to get other people doing it? Yeah. Yeah. But that's dumb though. You see what I'm saying? I mean, the reason I just don't know. They're not dumb, but. That's just too good reason it's the only thing. After. After. Second easy. Hey you. Me? Yeah. Did you ever try cigarettes? I was 14. Any reason? Because I was trying to be closer something. Really? Well yeah. So you tried it because other people were doing it? Yeah, I guess. And why don't you do it anymore? A lot of reasons. Just didn't like it you know? And I need a smoke to like fit in. Hold up. We finished?\n",
      "CPU times: user 1min 44s, sys: 47.4 s, total: 2min 31s\n",
      "Wall time: 27.3 s\n"
     ]
    }
   ],
   "source": [
    "%%time\n",
    "tiny_result = tiny_model.transcribe(source_file)\n",
    "tiny_text = tiny_result['text']\n",
    "print(tiny_text)"
   ]
  },
  {
   "cell_type": "code",
   "execution_count": 5,
   "id": "8bda1cb1",
   "metadata": {},
   "outputs": [
    {
     "name": "stderr",
     "output_type": "stream",
     "text": [
      "/Users/nms-workshop/anaconda3/lib/python3.10/site-packages/whisper/transcribe.py:126: UserWarning: FP16 is not supported on CPU; using FP32 instead\n",
      "  warnings.warn(\"FP16 is not supported on CPU; using FP32 instead\")\n"
     ]
    },
    {
     "name": "stdout",
     "output_type": "stream",
     "text": [
      " I'm not going to be a good guy. I'm not going to be a good guy. I'm not going to be a good guy. I'm not going to be a good guy. I'm not going to be a good guy. I'm not going to be a good guy. I'm not going to be a good guy. I'm not going to be a good guy. I'm not going to be a good guy. I'm not going to be a good guy. I'm not going to be a good guy. I'm not going to be a good guy. I'm not going to be a good guy. I'm not going to be a good guy. Think smoking makes you look cool. No way. What are you looking at? Hey, Christie! What? People might think that kids are like, don't they know? Always telling us what to do or not to do. But we know what's going on. We listen. We listen. We listen. We listen. We listen. We listen. We listen. We listen. We listen. We listen. We listen. Like smoking. We don't know the reason he's not to. But out here comes up. That's when we meet the real decision. And for us, it's not for a small. And that's not even the hardest decision out there for me. I mean, you know? So, how about a little kind of purchase? My parents. They always think I'm not listening. I hear them. Wait a minute. You know, every day you have to deal with stuff on your own. So, you want to know why I've decided not to smoke. Which reason would you like? I don't think to smoke to prove myself. My coolness is not on trail here. I don't smoke because sometimes it's what you don't do. That makes you who you are. These are the kids that I hang out with. They're all cool in different ways. But we're a lot of light, too. Because, you know, we all deal the same stuff. Same decisions. Like smoking. Forget it. We all came up with the same answer. Not for us. We don't have to smoke to be different. Being ourselves is enough. Hey guys. Can I ask you a couple of questions? What? Have you ever tried cigarettes? Nope. What about this? I don't know. I just never wanted to. Really? Yeah, I mean, some of my friends shot at it or whatever. Somebody had a pack at the school. You know, they're smoking on whatever. And do you think they tried to get other people doing it? Yeah, yeah. But that's dumb, though. You see what I'm saying? I mean, the reason I did stuff, not they're not dumb. But that's the stupid reason they're doing anything. I'll do it. I'll do it. Take it easy. Hey you. Me? Yeah. Did you ever try cigarettes? Almost 14. Any reason? I guess I was trying to be cool or something. Really? Well, yeah. So you tried it because other people were doing it? Yeah, I guess. And why don't you do it anymore? A lot of reasons. I just didn't like it, you know? I don't need to smoke to like fit in. Hold up. We finished.\n",
      "CPU times: user 5min 3s, sys: 2min 14s, total: 7min 17s\n",
      "Wall time: 1min 18s\n"
     ]
    }
   ],
   "source": [
    "%%time\n",
    "base_result = base_model.transcribe(source_file)\n",
    "base_text = base_result['text']\n",
    "print(base_text)"
   ]
  },
  {
   "cell_type": "code",
   "execution_count": 6,
   "id": "db1a3eb8",
   "metadata": {},
   "outputs": [
    {
     "name": "stderr",
     "output_type": "stream",
     "text": [
      "/Users/nms-workshop/anaconda3/lib/python3.10/site-packages/whisper/transcribe.py:126: UserWarning: FP16 is not supported on CPU; using FP32 instead\n",
      "  warnings.warn(\"FP16 is not supported on CPU; using FP32 instead\")\n"
     ]
    },
    {
     "name": "stdout",
     "output_type": "stream",
     "text": [
      " I Think smoking makes you look cool. No way. What are you looking at? Hey, Christy I Think smoking makes you look cool No way What People think that kids are like that. I know always telling us what to do or not to do We know what's going on. We listen like smoking We all know the reason it's not to but out here comes up That's when we meet the real decision and for us it's not That's not even the hardest decision out there for me. I mean, you know So how about a little credit for a change? My parents They always think I'm not listening. I hear them. Wait a minute. You know every day you have to do stuff on your own So you want to know why I decided not to smoke Which reason would you like? I don't need to smoke to prove myself my coolness is not on trial here I don't smoke because sometimes it's what you don't do That makes you who you are I These are the kids that I hang out with They're all cool in different ways But we're a lot of light too because you know we all deal with the same stuff same decisions Like smoking Forget it. We all came up with the same answer not for us We don't have to smoke to be different being ourselves Hey guys, can I ask you a couple questions? Have you ever tried cigarettes? Nope Why not? I don't know. I just never wanted to know me really Yeah, I mean some of my friends shot at whatever somebody have a pack at the school Smoking on whatever and do you think they try to get other people were doing it? Yeah? Yeah, but but that's dumb though You see what I mean? The reason I don't not they're not down But that's a stupid reason to do anything Take it easy. Hey you Me yeah, did you ever try cigarettes? I was 14 any reason I guess I was trying to be cool or something really Well, yeah, so you tried it because other people were doing it Yeah, I guess and why don't you do it anymore? A lot of reasons just didn't like it, you know, I don't need to smoke like fit in hold out We finished You\n",
      "CPU times: user 10min 30s, sys: 4min 26s, total: 14min 57s\n",
      "Wall time: 2min 36s\n"
     ]
    }
   ],
   "source": [
    "%%time\n",
    "small_result = small_model.transcribe(source_file)\n",
    "small_text = small_result['text']\n",
    "print(small_text)"
   ]
  },
  {
   "cell_type": "code",
   "execution_count": 7,
   "id": "de3c6cce",
   "metadata": {},
   "outputs": [
    {
     "name": "stderr",
     "output_type": "stream",
     "text": [
      "/Users/nms-workshop/anaconda3/lib/python3.10/site-packages/whisper/transcribe.py:126: UserWarning: FP16 is not supported on CPU; using FP32 instead\n",
      "  warnings.warn(\"FP16 is not supported on CPU; using FP32 instead\")\n"
     ]
    },
    {
     "name": "stdout",
     "output_type": "stream",
     "text": [
      " . . . . . . . . . . . . . . . . . . . . . . . . . . . . . . . . . . . . . . . . . . . . . . . . . . . . .\n",
      "CPU times: user 22min 58s, sys: 9min 8s, total: 32min 7s\n",
      "Wall time: 4min 51s\n"
     ]
    }
   ],
   "source": [
    "%%time\n",
    "medium_result = medium_model.transcribe(source_file)\n",
    "medium_text = medium_result['text']\n",
    "print(medium_text)"
   ]
  },
  {
   "cell_type": "code",
   "execution_count": 8,
   "id": "01c68edc",
   "metadata": {},
   "outputs": [
    {
     "name": "stderr",
     "output_type": "stream",
     "text": [
      "/Users/nms-workshop/anaconda3/lib/python3.10/site-packages/whisper/transcribe.py:126: UserWarning: FP16 is not supported on CPU; using FP32 instead\n",
      "  warnings.warn(\"FP16 is not supported on CPU; using FP32 instead\")\n"
     ]
    },
    {
     "name": "stdout",
     "output_type": "stream",
     "text": [
      " . . . . . . . . . . . . . . . . . . . . . . . . Think smoking makes you look cool? No way. What? People must think that kids are all a jot in the know. Always telling us what to do or not to do. But we know what's going on. We listen. Like smoking. We all know the reasons not to. But out here, it comes up. That's when we make the real decision. And for us, it's not full of smoke. And that's not even the hardest decision I've ever made. I mean, you know? So, how about a little credit for a change? My parents. They always think I'm not listening. I hear them. Wait a minute. You know, every day you have to deal with stuff on your own. So, you want to know why I've decided not to smoke? Which reason would you like? I don't need to smoke to prove myself. My coolness is not on trial here. I don't smoke because sometimes it's what you don't do that makes you who you are. These are the kids that I hang out with. They're good. They're all cool. In different ways. But we're a lot alike, too. Because, you know, we all deal with the same stuff. Same decisions. Like smoking. Forget it. We all came up with the same answer. Not for us. We don't have to smoke to be different. Being ourselves is enough. Hey, guys. Can I ask you a couple questions? Sure. Go ahead. All right. Have you ever tried cigarettes? Nope. Why not? I don't know. I just never wanted to. You know what I mean? Really? Yeah. I mean, some of my friends shot it or whatever. Somebody had a pack at the school. You know, they're smoking or whatever. And do you think they tried it because other people were doing it? Yeah. Yeah. Yeah. But that's dumb, though. You see what I'm saying? I mean, the reason that it's dumb, they're not dumb. But that's a stupid reason to do anything. I figure. I figure. You know what I mean? Yeah. Yeah. Yeah. Yeah. Yeah. Yeah. Yeah. Yeah. Take it easy. Hey, you. Me? Yeah. Did you ever try cigarettes? When I was 14. Any reason? Because I was trying to be cool or something. Really? Well, yeah. So you tried it because other people were doing it? Yeah, I guess. And why don't you do it anymore? A lot of reasons. I just didn't like it, you know? I don't need to smoke to, like, fit in. Hold up. We finished? Yeah. Yeah. Yeah. Yeah. Yeah. Yeah. Yeah. Yeah. Yeah. Yeah. Nice. Yeah. 진짜? Do I need to buy cigarettes? Yeah. You got it? Yeah. Oh, for...\"\n",
      "CPU times: user 2h 32min 34s, sys: 1h 14min 54s, total: 3h 47min 29s\n",
      "Wall time: 37min 8s\n"
     ]
    }
   ],
   "source": [
    "%%time\n",
    "large_result = large_model.transcribe(source_file)\n",
    "large_text = large_result['text']\n",
    "print(large_text)"
   ]
  }
 ],
 "metadata": {
  "kernelspec": {
   "display_name": "Python 3 (ipykernel)",
   "language": "python",
   "name": "python3"
  },
  "language_info": {
   "codemirror_mode": {
    "name": "ipython",
    "version": 3
   },
   "file_extension": ".py",
   "mimetype": "text/x-python",
   "name": "python",
   "nbconvert_exporter": "python",
   "pygments_lexer": "ipython3",
   "version": "3.10.9"
  }
 },
 "nbformat": 4,
 "nbformat_minor": 5
}
