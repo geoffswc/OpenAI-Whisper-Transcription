{
 "cells": [
  {
   "cell_type": "code",
   "execution_count": 1,
   "id": "75903a90",
   "metadata": {},
   "outputs": [],
   "source": [
    "import whisper"
   ]
  },
  {
   "cell_type": "code",
   "execution_count": 2,
   "id": "833a7356",
   "metadata": {},
   "outputs": [],
   "source": [
    "model = whisper.load_model(\"base\")"
   ]
  },
  {
   "cell_type": "code",
   "execution_count": 3,
   "id": "7159684c",
   "metadata": {},
   "outputs": [
    {
     "name": "stderr",
     "output_type": "stream",
     "text": [
      "/Users/boushey/opt/anaconda3/lib/python3.9/site-packages/whisper/transcribe.py:115: UserWarning: FP16 is not supported on CPU; using FP32 instead\n",
      "  warnings.warn(\"FP16 is not supported on CPU; using FP32 instead\")\n"
     ]
    }
   ],
   "source": [
    "source_file = 'tobacco_wbr62a00.mp4'\n",
    "result = model.transcribe(source_file)"
   ]
  },
  {
   "cell_type": "code",
   "execution_count": 6,
   "id": "b6500a43",
   "metadata": {},
   "outputs": [],
   "source": [
    "text = result['text']"
   ]
  },
  {
   "cell_type": "code",
   "execution_count": 9,
   "id": "8bda1cb1",
   "metadata": {},
   "outputs": [
    {
     "data": {
      "text/plain": [
       "\" I'm not going to be a good guy. I'm not going to be a good guy. I'm not going to be a good guy. I'm not going to be a good guy. I'm not going to be a good guy. I'm not going to be a good guy. I'm not going to be a good guy. I'm not going to be a good guy. I'm not going to be a good guy. I'm not going to be a good guy. I'm not going to be a good guy. I'm not going to be a good guy. I'm not going to be a good guy. I'm not going to be a good guy. I'm not going to be a good guy. Think smoking makes you look cool. No way. What are you looking at? Hey, Christie. thoughts and stuff Thanks smoking makes you look cool. No way. What? People must think their kids are like, don't they know? Always telling us what to do or not to do. But we know what's going on. We listen. Like smoking. We're on a blind date. We're on a blind date. We're on a blind date. We're on a blind date. We're on a blind date. We're on a blind date. We don't know the reason he's not two. But out here comes up. That's when we meet the real decisions. And for us, it's not for a film. That's not even the hardest decision I ever made. Let me know. So how about a little cut in purchase? My parents, they always think I'm not listening. I hear them. Wait a minute. You know, every day you have to deal with stuff when you're on. They don't step on your own. So you want to know why I've decided not to smoke? Which reason would you like? I don't think to smoke to prove myself. My coolness is not on trail here. I don't smoke because sometimes it's what you don't do. That makes you who you are. These are the kids that I hang out with. They're all cool in different ways. But we're a lot of light too. Because you know, we all deal the same stuff, same decisions, like smoking. Forget it. We all keep up with the same answer. Not for us. We don't have to smoke to be different. Being ourselves is enough. Hey guys, can I ask you a couple questions? Have you ever tried cigarettes? Nope. What about it? I don't know. I just never wanted to. Really? Yeah, I mean, some of my friends shot at it or whatever. But somebody had a pack at the school. You know, they're smoking or whatever. And do you think they tried to get the other people doing it? Yeah, yeah. But that's dumb though. Do you see what I'm saying? I mean, the reason I did stuff, not they're not dumb. But that's the stupid reason to do anything. I think. I think. Take it easy. Hey you. Me? Yeah. Did you ever try cigarettes? I was 14. Any reason? I guess I was trying to be cool or something. Really? Well, yeah. So you tried it because other people were doing it? Yeah, I guess. And why don't you do it anymore? A lot of reasons. I just didn't like it, you know? I don't need to smoke to like fit in. Hold up. We finished? Yeah.\""
      ]
     },
     "execution_count": 9,
     "metadata": {},
     "output_type": "execute_result"
    }
   ],
   "source": [
    "text"
   ]
  },
  {
   "cell_type": "code",
   "execution_count": null,
   "id": "7a3bcf45",
   "metadata": {},
   "outputs": [],
   "source": []
  }
 ],
 "metadata": {
  "kernelspec": {
   "display_name": "Python 3 (ipykernel)",
   "language": "python",
   "name": "python3"
  },
  "language_info": {
   "codemirror_mode": {
    "name": "ipython",
    "version": 3
   },
   "file_extension": ".py",
   "mimetype": "text/x-python",
   "name": "python",
   "nbconvert_exporter": "python",
   "pygments_lexer": "ipython3",
   "version": "3.9.7"
  }
 },
 "nbformat": 4,
 "nbformat_minor": 5
}
