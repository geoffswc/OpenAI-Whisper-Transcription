{
 "cells": [
  {
   "cell_type": "code",
   "execution_count": 1,
   "id": "75903a90",
   "metadata": {},
   "outputs": [],
   "source": [
    "import whisper"
   ]
  },
  {
   "cell_type": "code",
   "execution_count": 2,
   "id": "833a7356",
   "metadata": {},
   "outputs": [],
   "source": [
    "model = whisper.load_model(\"base\")"
   ]
  },
  {
   "cell_type": "code",
   "execution_count": 3,
   "id": "7159684c",
   "metadata": {},
   "outputs": [
    {
     "name": "stderr",
     "output_type": "stream",
     "text": [
      "/Users/boushey/opt/anaconda3/lib/python3.9/site-packages/whisper/transcribe.py:115: UserWarning: FP16 is not supported on CPU; using FP32 instead\n",
      "  warnings.warn(\"FP16 is not supported on CPU; using FP32 instead\")\n"
     ]
    }
   ],
   "source": [
    "source_file = 'tobacco_wbr62a00.mp4'\n",
    "result = model.transcribe(source_file)"
   ]
  },
  {
   "cell_type": "code",
   "execution_count": 6,
   "id": "b6500a43",
   "metadata": {},
   "outputs": [],
   "source": [
    "text = result['text']"
   ]
  },
  {
   "cell_type": "code",
   "execution_count": 9,
   "id": "8bda1cb1",
   "metadata": {},
   "outputs": [
    {
     "data": {
      "text/plain": [
       "\" I'm not going to be a good guy. I'm not going to be a good guy. I'm not going to be a good guy. I'm not going to be a good guy. I'm not going to be a good guy. I'm not going to be a good guy. I'm not going to be a good guy. I'm not going to be a good guy. I'm not going to be a good guy. I'm not going to be a good guy. I'm not going to be a good guy. I'm not going to be a good guy. I'm not going to be a good guy. I'm not going to be a good guy. I'm not going to be a good guy. Think smoking makes you look cool. No way. What are you looking at? Hey, Christie. thoughts and stuff Thanks smoking makes you look cool. No way. What? People must think their kids are like, don't they know? Always telling us what to do or not to do. But we know what's going on. We listen. Like smoking. We're on a blind date. We're on a blind date. We're on a blind date. We're on a blind date. We're on a blind date. We're on a blind date. We don't know the reason he's not two. But out here comes up. That's when we meet the real decisions. And for us, it's not for a film. That's not even the hardest decision I ever made. Let me know. So how about a little cut in purchase? My parents, they always think I'm not listening. I hear them. Wait a minute. You know, every day you have to deal with stuff when you're on. They don't step on your own. So you want to know why I've decided not to smoke? Which reason would you like? I don't think to smoke to prove myself. My coolness is not on trail here. I don't smoke because sometimes it's what you don't do. That makes you who you are. These are the kids that I hang out with. They're all cool in different ways. But we're a lot of light too. Because you know, we all deal the same stuff, same decisions, like smoking. Forget it. We all keep up with the same answer. Not for us. We don't have to smoke to be different. Being ourselves is enough. Hey guys, can I ask you a couple questions? Have you ever tried cigarettes? Nope. What about it? I don't know. I just never wanted to. Really? Yeah, I mean, some of my friends shot at it or whatever. But somebody had a pack at the school. You know, they're smoking or whatever. And do you think they tried to get the other people doing it? Yeah, yeah. But that's dumb though. Do you see what I'm saying? I mean, the reason I did stuff, not they're not dumb. But that's the stupid reason to do anything. I think. I think. Take it easy. Hey you. Me? Yeah. Did you ever try cigarettes? I was 14. Any reason? I guess I was trying to be cool or something. Really? Well, yeah. So you tried it because other people were doing it? Yeah, I guess. And why don't you do it anymore? A lot of reasons. I just didn't like it, you know? I don't need to smoke to like fit in. Hold up. We finished? Yeah.\""
      ]
     },
     "execution_count": 9,
     "metadata": {},
     "output_type": "execute_result"
    }
   ],
   "source": [
    "text"
   ]
  },
  {
   "cell_type": "code",
   "execution_count": 5,
   "id": "3ab6320b",
   "metadata": {},
   "outputs": [],
   "source": [
    "# from the whisper colab notebook - calculate the \"word error rate\"\n",
    "\n",
    "import jiwer\n",
    "from whisper.normalizers import EnglishTextNormalizer\n",
    "\n",
    "normalizer = EnglishTextNormalizer()"
   ]
  },
  {
   "cell_type": "code",
   "execution_count": 7,
   "id": "da33b8ba",
   "metadata": {},
   "outputs": [],
   "source": [
    "hypothesis = normalizer(text)"
   ]
  },
  {
   "cell_type": "code",
   "execution_count": 8,
   "id": "659bcf0c",
   "metadata": {},
   "outputs": [
    {
     "data": {
      "text/plain": [
       "'i am not going to be a good guy i am not going to be a good guy i am not going to be a good guy i am not going to be a good guy i am not going to be a good guy i am not going to be a good guy i am not going to be a good guy i am not going to be a good guy i am not going to be a good guy i am not going to be a good guy i am not going to be a good guy i am not going to be a good guy i am not going to be a good guy i am not going to be a good guy i am not going to be a good guy think smoking makes you look cool no way what are you looking at hey christie thoughts and stuff thanks smoking makes you look cool no way what people must think their kids are like do not they know always telling us what to do or not to do but we know what is going on we listen like smoking we are on a blind date we are on a blind date we are on a blind date we are on a blind date we are on a blind date we are on a blind date we do not know the reason he is not 2 but out here comes up that is when we meet the real decisions and for us it is not for a film that is not even the hardest decision i ever made let me know so how about a little cut in purchase my parents they always think i am not listening i hear them wait a minute you know every day you have to deal with stuff when you are on they do not step on your own so you want to know why i have decided not to smoke which reason would you like i do not think to smoke to prove myself my coolness is not on trail here i do not smoke because sometimes it is what you do not do that makes you who you are these are the kids that i hang out with they are all cool in different ways but we are a lot of light too because you know we all deal the same stuff same decisions like smoking forget it we all keep up with the same answer not for us we do not have to smoke to be different being ourselves is enough hey guys can i ask you a couple questions have you ever tried cigarettes nope what about it i do not know i just never wanted to really yeah i mean some of my friends shot at it or whatever but somebody had a pack at the school you know they are smoking or whatever and do you think they tried to get the other people doing it yeah yeah but that is dumb though do you see what i am saying i mean the reason i did stuff not they are not dumb but that is the stupid reason to do anything i think i think take it easy hey you me yeah did you ever try cigarettes i was 14 any reason i guess i was trying to be cool or something really well yeah so you tried it because other people were doing it yeah i guess and why do not you do it anymore a lot of reasons i just did not like it you know i do not need to smoke to like fit in hold up we finished yeah'"
      ]
     },
     "execution_count": 8,
     "metadata": {},
     "output_type": "execute_result"
    }
   ],
   "source": [
    "hypothesis"
   ]
  },
  {
   "cell_type": "code",
   "execution_count": null,
   "id": "7a3bcf45",
   "metadata": {},
   "outputs": [],
   "source": []
  }
 ],
 "metadata": {
  "kernelspec": {
   "display_name": "Python 3 (ipykernel)",
   "language": "python",
   "name": "python3"
  },
  "language_info": {
   "codemirror_mode": {
    "name": "ipython",
    "version": 3
   },
   "file_extension": ".py",
   "mimetype": "text/x-python",
   "name": "python",
   "nbconvert_exporter": "python",
   "pygments_lexer": "ipython3",
   "version": "3.9.7"
  }
 },
 "nbformat": 4,
 "nbformat_minor": 5
}
