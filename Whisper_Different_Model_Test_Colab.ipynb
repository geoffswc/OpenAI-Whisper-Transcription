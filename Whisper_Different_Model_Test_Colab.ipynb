{
  "cells": [
    {
      "cell_type": "code",
      "execution_count": 13,
      "id": "yKLp-9oANmfw",
      "metadata": {
        "id": "yKLp-9oANmfw"
      },
      "outputs": [],
      "source": [
        "!pip install git+https://github.com/openai/whisper.git\n",
        "!pip install ffmpeg-python\n",
        "!pip install tempfile"
      ]
    },
    {
      "cell_type": "code",
      "source": [
        "import tempfile\n",
        "import whisper\n",
        "import os\n",
        "import urllib"
      ],
      "metadata": {
        "id": "DYB4ffsPwZzJ"
      },
      "id": "DYB4ffsPwZzJ",
      "execution_count": 2,
      "outputs": []
    },
    {
      "cell_type": "code",
      "execution_count": 3,
      "id": "75903a90",
      "metadata": {
        "colab": {
          "base_uri": "https://localhost:8080/"
        },
        "id": "75903a90",
        "outputId": "7efdfae2-61e7-4f91-9e7d-a1a5a6434ff3"
      },
      "outputs": [
        {
          "output_type": "stream",
          "name": "stdout",
          "text": [
            "downloading file\n"
          ]
        }
      ],
      "source": [
        "# Create a temporary directory to store the downloaded MP4 file\n",
        "temp_dir = tempfile.TemporaryDirectory()\n",
        "\n",
        "# longer video from the internet archives (deposition, ~1hr)\n",
        "#url = \"https://ia801504.us.archive.org/20/items/opioids_fgxh0257/fgxh0257-0003.mp4\"\n",
        "\n",
        "# shorter (4 min) video from industry archives\n",
        "url = \"https://archive.org/download/tobacco_wbr62a00/tobacco_wbr62a00.mp4\"\n",
        "\n",
        "source_file_name = url.split('/')[-1]\n",
        "print(\"downloading file\")\n",
        "urllib.request.urlretrieve(url, source_file_name)\n",
        "\n",
        "source_file = os.path.join(source_file_name)"
      ]
    },
    {
      "cell_type": "code",
      "execution_count": 4,
      "id": "706926f2",
      "metadata": {
        "id": "706926f2",
        "colab": {
          "base_uri": "https://localhost:8080/"
        },
        "outputId": "c53b0ca0-58f1-420a-e4d0-a2294f676560"
      },
      "outputs": [
        {
          "output_type": "stream",
          "name": "stderr",
          "text": [
            "100%|█████████████████████████████████████| 72.1M/72.1M [00:10<00:00, 7.03MiB/s]\n",
            "100%|████████████████████████████████████████| 139M/139M [00:00<00:00, 151MiB/s]\n",
            "100%|███████████████████████████████████████| 461M/461M [00:05<00:00, 93.4MiB/s]\n",
            "100%|██████████████████████████████████████| 1.42G/1.42G [00:12<00:00, 118MiB/s]\n",
            "100%|█████████████████████████████████████| 2.88G/2.88G [00:33<00:00, 90.9MiB/s]\n"
          ]
        }
      ],
      "source": [
        "tiny_model = whisper.load_model(\"tiny\")\n",
        "base_model = whisper.load_model(\"base\")\n",
        "small_model = whisper.load_model(\"small\")\n",
        "medium_model = whisper.load_model(\"medium\")\n",
        "large_model = whisper.load_model(\"large\")"
      ]
    },
    {
      "cell_type": "code",
      "source": [
        "source_file"
      ],
      "metadata": {
        "colab": {
          "base_uri": "https://localhost:8080/",
          "height": 35
        },
        "id": "wRTklUfVXRmH",
        "outputId": "c955724f-59be-4e08-f5da-100c4f46f536"
      },
      "id": "wRTklUfVXRmH",
      "execution_count": 5,
      "outputs": [
        {
          "output_type": "execute_result",
          "data": {
            "text/plain": [
              "'tobacco_wbr62a00.mp4'"
            ],
            "application/vnd.google.colaboratory.intrinsic+json": {
              "type": "string"
            }
          },
          "metadata": {},
          "execution_count": 5
        }
      ]
    },
    {
      "cell_type": "code",
      "execution_count": 6,
      "id": "7a3bcf45",
      "metadata": {
        "colab": {
          "base_uri": "https://localhost:8080/"
        },
        "id": "7a3bcf45",
        "outputId": "957b7210-065d-40dd-ea00-32436da5db5b"
      },
      "outputs": [
        {
          "output_type": "stream",
          "name": "stdout",
          "text": [
            " Think smoking makes you look cool. No way. What are you looking at? Hey, Krissie! What? Think smoking makes you look cool. No way. What? Keep on my things, I can't know. I'm jumping now. Always telling us what to do. Or not to do. But we know what's going on. We listen. Like smoking. We don't know the reason it's not to. But out here comes up. That's when we meet the real decision. That's for us. It's not for the smoke. And that's not even the hardest decision out there, my baby. I mean, you know. So how about a little kind of purchase? My parents. They always think I'm not listening. I hear them. Wait a minute. You know, every day you have to do something. You have to deal with stuff on your own. So you want to know why I decided not to smoke. Which reason would you like? I don't need to smoke to prove myself. My coolness is not on trial here. I don't smoke because sometimes it's what you don't do. That makes you who you are. These are the kids that I've seen. They're all cool in different ways. Or a lot of like too. Because you know, we all deal with the same stuff. Same decisions. Like smoking. Forget it. We all came up with the same answer. Not for us. We don't have to smoke to be different. Being ourselves is enough. Hey guys. Now you ask you a couple questions? I've never tried cigarettes. So what? I don't know. I just never wanted to know. Really? Yeah. Someone French harder to whatever somebody had the pack at the school. You know, they smoke you know what I mean. And do you think they try to get other people doing it? Yeah. Yeah. But that's dumb though. You see what I'm saying? I mean, the reason I just don't know. They're not dumb, but. That's the reason it's the only thing. I'm not stupid. You're not stupid. Take it easy. Hey you. Me? Yeah. Did you ever try cigarettes? I was 14. Any reason? Because I was trying to be closer to something. Really? Well yeah. So you tried it because other people were doing it? Yeah, I guess. And why don't you do it anymore? A lot of reasons. Just didn't like it, you know? I don't need a smoke to like fit in. Hold up. We finished? Yeah.\n",
            "CPU times: user 7.59 s, sys: 264 ms, total: 7.85 s\n",
            "Wall time: 11.1 s\n"
          ]
        }
      ],
      "source": [
        "%%time\n",
        "tiny_result = tiny_model.transcribe(source_file)\n",
        "tiny_text = tiny_result['text']\n",
        "print(tiny_text)"
      ]
    },
    {
      "cell_type": "code",
      "execution_count": 7,
      "id": "13c9f9ae",
      "metadata": {
        "id": "13c9f9ae",
        "colab": {
          "base_uri": "https://localhost:8080/",
          "height": 137
        },
        "outputId": "d8c4c5d2-1b2d-43a4-d4fe-06b57dfa11a8"
      },
      "outputs": [
        {
          "output_type": "execute_result",
          "data": {
            "text/plain": [
              "\" Think smoking makes you look cool. No way. What are you looking at? Hey, Krissie! What? Think smoking makes you look cool. No way. What? Keep on my things, I can't know. I'm jumping now. Always telling us what to do. Or not to do. But we know what's going on. We listen. Like smoking. We don't know the reason it's not to. But out here comes up. That's when we meet the real decision. That's for us. It's not for the smoke. And that's not even the hardest decision out there, my baby. I mean, you know. So how about a little kind of purchase? My parents. They always think I'm not listening. I hear them. Wait a minute. You know, every day you have to do something. You have to deal with stuff on your own. So you want to know why I decided not to smoke. Which reason would you like? I don't need to smoke to prove myself. My coolness is not on trial here. I don't smoke because sometimes it's what you don't do. That makes you who you are. These are the kids that I've seen. They're all cool in different ways. Or a lot of like too. Because you know, we all deal with the same stuff. Same decisions. Like smoking. Forget it. We all came up with the same answer. Not for us. We don't have to smoke to be different. Being ourselves is enough. Hey guys. Now you ask you a couple questions? I've never tried cigarettes. So what? I don't know. I just never wanted to know. Really? Yeah. Someone French harder to whatever somebody had the pack at the school. You know, they smoke you know what I mean. And do you think they try to get other people doing it? Yeah. Yeah. But that's dumb though. You see what I'm saying? I mean, the reason I just don't know. They're not dumb, but. That's the reason it's the only thing. I'm not stupid. You're not stupid. Take it easy. Hey you. Me? Yeah. Did you ever try cigarettes? I was 14. Any reason? Because I was trying to be closer to something. Really? Well yeah. So you tried it because other people were doing it? Yeah, I guess. And why don't you do it anymore? A lot of reasons. Just didn't like it, you know? I don't need a smoke to like fit in. Hold up. We finished? Yeah.\""
            ],
            "application/vnd.google.colaboratory.intrinsic+json": {
              "type": "string"
            }
          },
          "metadata": {},
          "execution_count": 7
        }
      ],
      "source": [
        "tiny_result['text']"
      ]
    },
    {
      "cell_type": "code",
      "execution_count": 8,
      "id": "8bda1cb1",
      "metadata": {
        "id": "8bda1cb1",
        "colab": {
          "base_uri": "https://localhost:8080/"
        },
        "outputId": "6e16904c-020e-4355-80aa-e8a50bc7cdc0"
      },
      "outputs": [
        {
          "output_type": "stream",
          "name": "stdout",
          "text": [
            " I'm not going to be a good guy. I'm not going to be a good guy. I'm not going to be a good guy. I'm not going to be a good guy. I'm not going to be a good guy. I'm not going to be a good guy. I'm not going to be a good guy. I'm not going to be a good guy. I'm not going to be a good guy. I'm not going to be a good guy. I'm not going to be a good guy. I'm not going to be a good guy. I'm not going to be a good guy. I'm not going to be a good guy. Think smoking makes you look cool. No way. What are you looking at? Hey, Christie. Wy months next week. Are we going to be going to be going to be going to be going to be going to be going to be going to be going to be going to be going to be going to be going. If we move, we just want to do what we want, we just want to do what we want. If we move, we just want to do what we want. If we move, we just want to do what we want. Will these kids are different to the kids? Who are the two lanes? How does we know if they're different from the other. Do they look as different as we thought maybe from what they do. We don't know anyone. We listen. Like smoking. We don't know the reason he's not to. But out here comes up. That's when we meet the real decision. And for us, it's not for a film. And that's not even the hardest decision out there for me. I mean, you know? So, how about a little catapult, Chase? My parents. They always think I'm not listening. I hear him. Wait a minute. You know, every day you have to deal stuff on your own. So, you want to know why I've decided not to smoke. Which reason would you like? I don't think to smoke to prove myself. My coolness is not on trail here. I don't smoke because sometimes it's what you don't do. That makes you who you are. These are the kids that I hang out with. They're all cool in different ways. But we're a lot of light, too. Because, you know, we all deal the same stuff. Same decisions. Like smoking. Forget it. We all came up with the same answer. Not for us. We don't have to smoke to be different. Being ourselves is enough. Hey guys. Can I ask you a couple of questions? What's up? Have you ever tried cigarettes? Nope. What happened? I don't know. I just never wanted to. Really? Yeah, I mean, some of my friends shot at it or whatever. Somebody had a pack at the school. You know, they're smoking on whatever. And do you think they tried to get other people doing it? Yeah, yeah. But that's dumb, though. You see what I'm saying? I mean, the reason I did stuff, not they're not dumb. That's the stupid reason to do anything. That's the stupid reason. Take it easy. Hey you. Me? Yeah. Did you ever try cigarettes? Almost 14. Any reason? I guess I was trying to be cool or something. Really? Well, yeah. So you tried it because other people were doing it? Yeah, I guess. And why don't you do it anymore? A lot of reasons. I just didn't like it, you know? I don't need to smoke like fit in. Hold up. We finished?\n",
            "CPU times: user 20.2 s, sys: 147 ms, total: 20.3 s\n",
            "Wall time: 21.6 s\n"
          ]
        }
      ],
      "source": [
        "%%time\n",
        "base_result = base_model.transcribe(source_file)\n",
        "base_text = base_result['text']\n",
        "print(base_text)"
      ]
    },
    {
      "cell_type": "code",
      "execution_count": 9,
      "id": "db1a3eb8",
      "metadata": {
        "id": "db1a3eb8",
        "colab": {
          "base_uri": "https://localhost:8080/"
        },
        "outputId": "42bcaf38-f7f1-48b5-bb28-f725132b82ce"
      },
      "outputs": [
        {
          "output_type": "stream",
          "name": "stdout",
          "text": [
            " I Think smoking makes you look cool. No way. What are you looking at? Hey, Christy I Think smoking makes you look cool No way What People think that kids are like that. I know always telling us what to do or not to do We know what's going on. We listen like smoking We all know the reason it's not to but out here comes up That's when we meet the real decision and for us it's not That's not even the hardest decision out there for me. I mean, you know So how about a little credit for a change? My parents They always think I'm not listening. I hear them. Wait a minute. You know every day you have to do stuff on your own So you want to know why I decided not to smoke Which reason would you like? I don't need to smoke to prove myself my coolness is not on trial here I don't smoke because sometimes it's what you don't do That makes you who you are I These are the kids that I hang out with They're all cool in different ways But we're a lot of light too because you know we all deal with the same stuff same decisions Like smoking Forget it. We all came up with the same answer not for us We don't have to smoke to be different being ourselves Hey guys, can I ask you a couple questions? Have you ever tried cigarettes? Nope Why not? I don't know. I just never wanted to know me really Yeah, I mean some of my friends shot at whatever somebody have a pack at the school Smoking on whatever and do you think they try to get other people were doing it? Yeah? Yeah, but but that's dumb though You see what I mean? The reason I don't not they're not down But that's a stupid reason to do anything Take it easy. Hey you Me yeah, did you ever try cigarettes? I was 14 any reason I guess I was trying to be cool or something really Well, yeah, so you tried it because other people were doing it Yeah, I guess and why don't you do it anymore? A lot of reasons just didn't like it, you know, I don't need to smoke like fit in hold out We finished You\n",
            "CPU times: user 13.2 s, sys: 146 ms, total: 13.3 s\n",
            "Wall time: 14.1 s\n"
          ]
        }
      ],
      "source": [
        "%%time\n",
        "small_result = small_model.transcribe(source_file)\n",
        "small_text = small_result['text']\n",
        "print(small_text)"
      ]
    },
    {
      "cell_type": "code",
      "execution_count": 10,
      "id": "de3c6cce",
      "metadata": {
        "id": "de3c6cce",
        "colab": {
          "base_uri": "https://localhost:8080/"
        },
        "outputId": "5645d41b-5de2-4e36-bfb4-0a740492e221"
      },
      "outputs": [
        {
          "output_type": "stream",
          "name": "stdout",
          "text": [
            " . . . . . . . . . . . . . . . . . . . . .\n",
            "CPU times: user 11.6 s, sys: 161 ms, total: 11.8 s\n",
            "Wall time: 12.5 s\n"
          ]
        }
      ],
      "source": [
        "%%time\n",
        "medium_result = medium_model.transcribe(source_file)\n",
        "medium_text = medium_result['text']\n",
        "print(medium_text)"
      ]
    },
    {
      "cell_type": "code",
      "execution_count": 11,
      "id": "01c68edc",
      "metadata": {
        "id": "01c68edc",
        "colab": {
          "base_uri": "https://localhost:8080/"
        },
        "outputId": "d56e62c7-519e-418d-9421-82f16132153d"
      },
      "outputs": [
        {
          "output_type": "stream",
          "name": "stdout",
          "text": [
            " . . . . . . . . . . . . . . . . . . . . . Think smoking makes you look cool? No way! What are you lookin' at? Hey Kristy! . . . Think smoking makes you look cool? No way. What? People must think that kids are all a jot in the know. Always telling us what to do or not to do. But we know what's going on. We listen. Like smoking. We all know the reasons not to. But out here, it comes up. That's when we make the real decision. And for us, it's not full of smoke. And that's not even the hardest decision I've ever made. I mean, you know? So, how about a little credit for a change? My parents. They always think I'm not listening. I hear them. Wait a minute. You know, every day you have to deal with stuff on your own. So, you want to know why I've decided not to smoke? Which reason would you like? I don't need to smoke to prove myself. My coolness is not on trial here. I don't smoke because sometimes it's what you don't do that makes you who you are. These are the kids that I hang out with. They're good. They're all cool. In different ways. But we're a lot alike, too. Because, you know, we all deal with the same stuff. Same decisions. Like smoking. Forget it. We all came up with the same answer. Not for us. We don't have to smoke to be different. Being ourselves is enough. Hey, guys. Can I ask you a couple questions? Sure. Go ahead. All right. Have you ever tried cigarettes? Nope. Why not? I don't know. I just never wanted to. You know what I mean? Really? Yeah. I mean, some of my friends shot it or whatever. Somebody had a pack at the school. You know, they're smoking or whatever. And do you think they tried it because other people were doing it? Yeah. Yeah. Yeah. But that's dumb, though. You see what I'm saying? I mean, the reason that it's dumb, they're not dumb. But that's a stupid reason to do anything. I figure. I figure. You know what I mean? Yeah. Yeah. Yeah. Yeah. Yeah. Yeah. Yeah. Yeah. Take it easy. Hey, you. Me? Yeah. Did you ever try cigarettes? When I was 14. Any reason? Because I was trying to be cool or something. Really? Well, yeah. So you tried it because other people were doing it? Yeah, I guess. And why don't you do it anymore? A lot of reasons. I just didn't like it, you know? I don't need to smoke to, like, fit in. Hold up. We finished? Yeah. OK, I kind of want to know an answer. Sp ajust where my uncle solding. Ah, ah, no. Does your dad ever want to meet me or something like that? I'll see about that. Actually, you're just watching over me after taking a stuck and I stopped talking, and\n",
            "CPU times: user 2min 15s, sys: 767 ms, total: 2min 16s\n",
            "Wall time: 2min 17s\n"
          ]
        }
      ],
      "source": [
        "%%time\n",
        "large_result = large_model.transcribe(source_file)\n",
        "large_text = large_result['text']\n",
        "print(large_text)"
      ]
    },
    {
      "cell_type": "code",
      "source": [
        "large_text"
      ],
      "metadata": {
        "colab": {
          "base_uri": "https://localhost:8080/",
          "height": 137
        },
        "id": "FH1N6TpxSPfR",
        "outputId": "fb9f9743-030d-44ed-f92c-2a967a5d93fe"
      },
      "id": "FH1N6TpxSPfR",
      "execution_count": 12,
      "outputs": [
        {
          "output_type": "execute_result",
          "data": {
            "text/plain": [
              "\" . . . . . . . . . . . . . . . . . . . . . Think smoking makes you look cool? No way! What are you lookin' at? Hey Kristy! . . . Think smoking makes you look cool? No way. What? People must think that kids are all a jot in the know. Always telling us what to do or not to do. But we know what's going on. We listen. Like smoking. We all know the reasons not to. But out here, it comes up. That's when we make the real decision. And for us, it's not full of smoke. And that's not even the hardest decision I've ever made. I mean, you know? So, how about a little credit for a change? My parents. They always think I'm not listening. I hear them. Wait a minute. You know, every day you have to deal with stuff on your own. So, you want to know why I've decided not to smoke? Which reason would you like? I don't need to smoke to prove myself. My coolness is not on trial here. I don't smoke because sometimes it's what you don't do that makes you who you are. These are the kids that I hang out with. They're good. They're all cool. In different ways. But we're a lot alike, too. Because, you know, we all deal with the same stuff. Same decisions. Like smoking. Forget it. We all came up with the same answer. Not for us. We don't have to smoke to be different. Being ourselves is enough. Hey, guys. Can I ask you a couple questions? Sure. Go ahead. All right. Have you ever tried cigarettes? Nope. Why not? I don't know. I just never wanted to. You know what I mean? Really? Yeah. I mean, some of my friends shot it or whatever. Somebody had a pack at the school. You know, they're smoking or whatever. And do you think they tried it because other people were doing it? Yeah. Yeah. Yeah. But that's dumb, though. You see what I'm saying? I mean, the reason that it's dumb, they're not dumb. But that's a stupid reason to do anything. I figure. I figure. You know what I mean? Yeah. Yeah. Yeah. Yeah. Yeah. Yeah. Yeah. Yeah. Take it easy. Hey, you. Me? Yeah. Did you ever try cigarettes? When I was 14. Any reason? Because I was trying to be cool or something. Really? Well, yeah. So you tried it because other people were doing it? Yeah, I guess. And why don't you do it anymore? A lot of reasons. I just didn't like it, you know? I don't need to smoke to, like, fit in. Hold up. We finished? Yeah. OK, I kind of want to know an answer. Sp ajust where my uncle solding. Ah, ah, no. Does your dad ever want to meet me or something like that? I'll see about that. Actually, you're just watching over me after taking a stuck and I stopped talking, and\""
            ],
            "application/vnd.google.colaboratory.intrinsic+json": {
              "type": "string"
            }
          },
          "metadata": {},
          "execution_count": 12
        }
      ]
    },
    {
      "cell_type": "code",
      "source": [],
      "metadata": {
        "id": "eBGcFxoNd6Pl"
      },
      "id": "eBGcFxoNd6Pl",
      "execution_count": 12,
      "outputs": []
    }
  ],
  "metadata": {
    "colab": {
      "provenance": [],
      "gpuType": "T4"
    },
    "kernelspec": {
      "display_name": "Python 3",
      "name": "python3"
    },
    "language_info": {
      "codemirror_mode": {
        "name": "ipython",
        "version": 3
      },
      "file_extension": ".py",
      "mimetype": "text/x-python",
      "name": "python",
      "nbconvert_exporter": "python",
      "pygments_lexer": "ipython3",
      "version": "3.9.7"
    },
    "accelerator": "GPU"
  },
  "nbformat": 4,
  "nbformat_minor": 5
}